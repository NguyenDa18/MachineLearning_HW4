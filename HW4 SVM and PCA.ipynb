{
 "cells": [
  {
   "cell_type": "code",
   "execution_count": 7,
   "metadata": {
    "collapsed": false,
    "scrolled": true
   },
   "outputs": [],
   "source": [
    "import numpy as np\n",
    "import matplotlib.pyplot as plt\n",
    "import pandas as pd\n",
    "import re\n",
    "from sklearn import svm, metrics\n",
    "from sklearn.cross_validation import train_test_split\n",
    "\n",
    "# Read in data\n",
    "lines_data = []\n",
    "with open('histograms.txt', 'rt') as in_file:\n",
    "    for line in in_file:\n",
    "        lines_data.append(line.rstrip('\\n'))\n",
    "\n",
    "# parse output +-1:[data] into x = [1,1,-1,...] y = [data]\n",
    "data_list = []\n",
    "for line in lines_data:\n",
    "    label = int(re.split(':', line)[0])\n",
    "\n",
    "    parsed_input = re.split('1:', line)[1].strip()\n",
    "    parsed_input = parsed_input.replace(\"[\", \"\").replace(\"]\", \"\")\n",
    "    parsed_input_list = parsed_input.split(',')\n",
    "    inputs = [float(el) for el in parsed_input_list]\n",
    "    row = [label] + inputs\n",
    "    data_list.append(row)\n",
    "data = np.asarray(data_list)\n",
    "\n",
    "x = data[:, 1:]\n",
    "y = data[:, 0]  #labels\n",
    "y = y.reshape(5699, )"
   ]
  },
  {
   "cell_type": "code",
   "execution_count": 8,
   "metadata": {
    "collapsed": false
   },
   "outputs": [
    {
     "name": "stdout",
     "output_type": "stream",
     "text": [
      "[ 1.  1.  1.  1.  1.  1.]\n"
     ]
    }
   ],
   "source": [
    "sample_x = data[0:6, 1:]\n",
    "\n",
    "# Build the SVM\n",
    "clf = svm.SVC(kernel='linear')\n",
    "clf.fit(x, y)\n",
    "\n",
    "y_pred = clf.predict(sample_x)\n",
    "print(y_pred)\n",
    "\n",
    "\n"
   ]
  },
  {
   "cell_type": "code",
   "execution_count": null,
   "metadata": {
    "collapsed": true
   },
   "outputs": [],
   "source": []
  }
 ],
 "metadata": {
  "anaconda-cloud": {},
  "kernelspec": {
   "display_name": "Python 3",
   "language": "python",
   "name": "python3"
  },
  "language_info": {
   "codemirror_mode": {
    "name": "ipython",
    "version": 3
   },
   "file_extension": ".py",
   "mimetype": "text/x-python",
   "name": "python",
   "nbconvert_exporter": "python",
   "pygments_lexer": "ipython3",
   "version": "3.5.2"
  }
 },
 "nbformat": 4,
 "nbformat_minor": 1
}
